{
 "cells": [
  {
   "attachments": {},
   "cell_type": "markdown",
   "metadata": {},
   "source": [
    "# Select Your Stock"
   ]
  },
  {
   "cell_type": "code",
   "execution_count": 1,
   "metadata": {},
   "outputs": [],
   "source": [
    "import pandas as pd\n",
    "stock_name = 'META' # ticker symbol\n",
    "df = pd.read_csv('./dataset/' + stock_name + '.csv')"
   ]
  },
  {
   "attachments": {},
   "cell_type": "markdown",
   "metadata": {},
   "source": [
    "# Preprocess "
   ]
  },
  {
   "cell_type": "code",
   "execution_count": 2,
   "metadata": {},
   "outputs": [],
   "source": [
    "from sklearn.preprocessing import MinMaxScaler\n",
    "def retrieve_closing_prices_only(data):\n",
    "    data = data[['Close']]\n",
    "    return data\n",
    "\n",
    "def min_max_scaling(data):\n",
    "    scaler = MinMaxScaler(feature_range = (0, 1))\n",
    "    data = scaler.fit_transform(data.values)\n",
    "    return scaler, data\n",
    "    \n",
    "scaler, new_df = min_max_scaling(retrieve_closing_prices_only(df))"
   ]
  },
  {
   "attachments": {},
   "cell_type": "markdown",
   "metadata": {},
   "source": [
    "# Train Test Split"
   ]
  },
  {
   "cell_type": "code",
   "execution_count": 3,
   "metadata": {},
   "outputs": [
    {
     "name": "stdout",
     "output_type": "stream",
     "text": [
      "The training size for Meta is 2567 rows\n",
      "The testing size for Meta is 135 rows\n",
      "Data for Meta split successfully\n"
     ]
    }
   ],
   "source": [
    "import numpy as np \n",
    "def split_and_reshape_data(dataframe, pred_days, company):\n",
    "    prediction_days = pred_days\n",
    "    \n",
    "    train_size = int(np.ceil(len(dataframe) * 0.95))\n",
    "    test_size = len(dataframe) - train_size\n",
    "    print(f'The training size for {company.title()} is {train_size} rows')\n",
    "    print(f'The testing size for {company.title()} is {test_size} rows')\n",
    "    \n",
    "    train_data = dataframe[0: int(train_size), :]\n",
    "    test_data = dataframe[train_size - prediction_days:, :]\n",
    "    \n",
    "    X_train, y_train, X_test, y_test = [], [], [], []\n",
    "    \n",
    "    for i in range(prediction_days, len(train_data)):\n",
    "        X_train.append(train_data[i - prediction_days: i, 0])\n",
    "        y_train.append(train_data[i, 0])\n",
    "        \n",
    "    for i in range(prediction_days, len(test_data)):\n",
    "        X_test.append(test_data[i - prediction_days: i, 0])\n",
    "        y_test.append(test_data[i, 0])\n",
    "        \n",
    "    X_train, y_train, X_test, y_test = np.array(X_train), np.array(y_train), np.array(X_test), np.array(y_test)\n",
    "    X_train = np.reshape(X_train, (X_train.shape[0], X_train.shape[1], 1))\n",
    "    X_test = np.reshape(X_test, (X_test.shape[0], X_test.shape[1], 1))\n",
    "    \n",
    "        \n",
    "    print('Data for {} split successfully'.format(company.title()))\n",
    "    \n",
    "    return X_train, y_train, X_test, y_test\n",
    "    \n",
    "X_train, y_train, X_test, y_test = split_and_reshape_data(new_df, 30, stock_name)"
   ]
  },
  {
   "attachments": {},
   "cell_type": "markdown",
   "metadata": {},
   "source": [
    "# Train LSTM"
   ]
  },
  {
   "cell_type": "code",
   "execution_count": 4,
   "metadata": {},
   "outputs": [
    {
     "name": "stderr",
     "output_type": "stream",
     "text": [
      "2023-02-16 13:10:16.310984: W tensorflow/stream_executor/platform/default/dso_loader.cc:64] Could not load dynamic library 'libcudart.so.11.0'; dlerror: libcudart.so.11.0: cannot open shared object file: No such file or directory\n",
      "2023-02-16 13:10:16.311012: I tensorflow/stream_executor/cuda/cudart_stub.cc:29] Ignore above cudart dlerror if you do not have a GPU set up on your machine.\n"
     ]
    }
   ],
   "source": [
    "import tensorflow as tf\n",
    "import keras\n",
    "from tensorflow.keras.models import Sequential\n",
    "from tensorflow.keras.layers import Conv1D, Bidirectional, LSTM, Dropout, Dense\n",
    "from tensorflow.keras.optimizers import Adam\n",
    "from tensorflow.keras.losses import Huber\n"
   ]
  },
  {
   "cell_type": "code",
   "execution_count": 5,
   "metadata": {},
   "outputs": [],
   "source": [
    "def create_and_train_bilstm_model(X_train, y_train, X_test, y_test, company):\n",
    "    \n",
    "    print('=========For {}========='.format(company))\n",
    "    \n",
    "    model = Sequential([\n",
    "    Conv1D(32, 3, strides = 1, activation = 'relu', input_shape = [30, 1]),\n",
    "    Bidirectional(LSTM(64, return_sequences = True)),\n",
    "    Bidirectional(LSTM(64, return_sequences = True)),\n",
    "    Bidirectional(LSTM(64)),\n",
    "    Dense(32, activation = 'relu'),\n",
    "    Dense(1)\n",
    "    ])\n",
    "    \n",
    "    model.compile(optimizer = Adam(), loss = Huber(), metrics = ['mse', 'mae'])\n",
    "    \n",
    "    predictor = model.fit(X_train, y_train, validation_data = (X_test, y_test), epochs = 50)\n",
    "    \n",
    "    y_pred = model.predict(X_test)\n",
    "    \n",
    "    return model, predictor, y_pred"
   ]
  },
  {
   "cell_type": "code",
   "execution_count": 6,
   "metadata": {},
   "outputs": [
    {
     "name": "stdout",
     "output_type": "stream",
     "text": [
      "=========For META=========\n"
     ]
    },
    {
     "name": "stderr",
     "output_type": "stream",
     "text": [
      "2023-02-16 13:10:19.636891: W tensorflow/stream_executor/platform/default/dso_loader.cc:64] Could not load dynamic library 'libcuda.so.1'; dlerror: libcuda.so.1: cannot open shared object file: No such file or directory\n",
      "2023-02-16 13:10:19.636946: W tensorflow/stream_executor/cuda/cuda_driver.cc:269] failed call to cuInit: UNKNOWN ERROR (303)\n",
      "2023-02-16 13:10:19.636973: I tensorflow/stream_executor/cuda/cuda_diagnostics.cc:156] kernel driver does not appear to be running on this host (Tasus): /proc/driver/nvidia/version does not exist\n",
      "2023-02-16 13:10:19.637658: I tensorflow/core/platform/cpu_feature_guard.cc:151] This TensorFlow binary is optimized with oneAPI Deep Neural Network Library (oneDNN) to use the following CPU instructions in performance-critical operations:  AVX2 FMA\n",
      "To enable them in other operations, rebuild TensorFlow with the appropriate compiler flags.\n"
     ]
    },
    {
     "name": "stdout",
     "output_type": "stream",
     "text": [
      "Epoch 1/50\n",
      "80/80 [==============================] - 12s 49ms/step - loss: 0.0050 - mse: 0.0099 - mae: 0.0540 - val_loss: 0.0013 - val_mse: 0.0026 - val_mae: 0.0388\n",
      "Epoch 2/50\n",
      "80/80 [==============================] - 3s 32ms/step - loss: 5.1295e-04 - mse: 0.0010 - mae: 0.0201 - val_loss: 0.0010 - val_mse: 0.0020 - val_mae: 0.0335\n",
      "Epoch 3/50\n",
      "80/80 [==============================] - 3s 32ms/step - loss: 4.1665e-04 - mse: 8.3331e-04 - mae: 0.0182 - val_loss: 8.4443e-04 - val_mse: 0.0017 - val_mae: 0.0305\n",
      "Epoch 4/50\n",
      "80/80 [==============================] - 3s 31ms/step - loss: 3.7404e-04 - mse: 7.4807e-04 - mae: 0.0174 - val_loss: 0.0011 - val_mse: 0.0021 - val_mae: 0.0360\n",
      "Epoch 5/50\n",
      "80/80 [==============================] - 3s 32ms/step - loss: 3.7469e-04 - mse: 7.4938e-04 - mae: 0.0179 - val_loss: 6.3808e-04 - val_mse: 0.0013 - val_mae: 0.0259\n",
      "Epoch 6/50\n",
      "80/80 [==============================] - 3s 31ms/step - loss: 4.6130e-04 - mse: 9.2261e-04 - mae: 0.0197 - val_loss: 7.2635e-04 - val_mse: 0.0015 - val_mae: 0.0277\n",
      "Epoch 7/50\n",
      "80/80 [==============================] - 3s 32ms/step - loss: 3.1941e-04 - mse: 6.3882e-04 - mae: 0.0166 - val_loss: 5.9993e-04 - val_mse: 0.0012 - val_mae: 0.0255\n",
      "Epoch 8/50\n",
      "80/80 [==============================] - 2s 31ms/step - loss: 2.3445e-04 - mse: 4.6891e-04 - mae: 0.0141 - val_loss: 5.0915e-04 - val_mse: 0.0010 - val_mae: 0.0224\n",
      "Epoch 9/50\n",
      "80/80 [==============================] - 3s 32ms/step - loss: 2.3941e-04 - mse: 4.7883e-04 - mae: 0.0143 - val_loss: 5.1151e-04 - val_mse: 0.0010 - val_mae: 0.0226\n",
      "Epoch 10/50\n",
      "80/80 [==============================] - 3s 32ms/step - loss: 2.2141e-04 - mse: 4.4283e-04 - mae: 0.0137 - val_loss: 5.9268e-04 - val_mse: 0.0012 - val_mae: 0.0263\n",
      "Epoch 11/50\n",
      "80/80 [==============================] - 3s 31ms/step - loss: 2.2056e-04 - mse: 4.4111e-04 - mae: 0.0138 - val_loss: 4.6764e-04 - val_mse: 9.3528e-04 - val_mae: 0.0220\n",
      "Epoch 12/50\n",
      "80/80 [==============================] - 3s 32ms/step - loss: 2.0527e-04 - mse: 4.1055e-04 - mae: 0.0134 - val_loss: 4.3094e-04 - val_mse: 8.6187e-04 - val_mae: 0.0205\n",
      "Epoch 13/50\n",
      "80/80 [==============================] - 3s 32ms/step - loss: 1.8133e-04 - mse: 3.6265e-04 - mae: 0.0122 - val_loss: 4.0353e-04 - val_mse: 8.0707e-04 - val_mae: 0.0198\n",
      "Epoch 14/50\n",
      "80/80 [==============================] - 3s 32ms/step - loss: 2.3204e-04 - mse: 4.6407e-04 - mae: 0.0146 - val_loss: 4.5664e-04 - val_mse: 9.1329e-04 - val_mae: 0.0217\n",
      "Epoch 15/50\n",
      "80/80 [==============================] - 3s 33ms/step - loss: 2.2024e-04 - mse: 4.4049e-04 - mae: 0.0140 - val_loss: 3.8710e-04 - val_mse: 7.7421e-04 - val_mae: 0.0199\n",
      "Epoch 16/50\n",
      "80/80 [==============================] - 3s 32ms/step - loss: 2.0431e-04 - mse: 4.0862e-04 - mae: 0.0130 - val_loss: 4.4592e-04 - val_mse: 8.9183e-04 - val_mae: 0.0220\n",
      "Epoch 17/50\n",
      "80/80 [==============================] - 3s 32ms/step - loss: 1.9339e-04 - mse: 3.8678e-04 - mae: 0.0131 - val_loss: 4.3227e-04 - val_mse: 8.6454e-04 - val_mae: 0.0219\n",
      "Epoch 18/50\n",
      "80/80 [==============================] - 3s 33ms/step - loss: 1.5830e-04 - mse: 3.1660e-04 - mae: 0.0117 - val_loss: 3.3389e-04 - val_mse: 6.6777e-04 - val_mae: 0.0179\n",
      "Epoch 19/50\n",
      "80/80 [==============================] - 3s 33ms/step - loss: 1.4730e-04 - mse: 2.9461e-04 - mae: 0.0113 - val_loss: 2.9389e-04 - val_mse: 5.8778e-04 - val_mae: 0.0166\n",
      "Epoch 20/50\n",
      "80/80 [==============================] - 3s 33ms/step - loss: 1.4507e-04 - mse: 2.9014e-04 - mae: 0.0112 - val_loss: 2.9319e-04 - val_mse: 5.8639e-04 - val_mae: 0.0169\n",
      "Epoch 21/50\n",
      "80/80 [==============================] - 3s 34ms/step - loss: 1.5764e-04 - mse: 3.1528e-04 - mae: 0.0115 - val_loss: 2.9110e-04 - val_mse: 5.8221e-04 - val_mae: 0.0168\n",
      "Epoch 22/50\n",
      "80/80 [==============================] - 3s 33ms/step - loss: 1.4743e-04 - mse: 2.9487e-04 - mae: 0.0114 - val_loss: 2.5549e-04 - val_mse: 5.1099e-04 - val_mae: 0.0154\n",
      "Epoch 23/50\n",
      "80/80 [==============================] - 3s 33ms/step - loss: 1.4135e-04 - mse: 2.8270e-04 - mae: 0.0109 - val_loss: 2.4253e-04 - val_mse: 4.8506e-04 - val_mae: 0.0149\n",
      "Epoch 24/50\n",
      "80/80 [==============================] - 3s 34ms/step - loss: 1.2405e-04 - mse: 2.4811e-04 - mae: 0.0102 - val_loss: 2.5248e-04 - val_mse: 5.0496e-04 - val_mae: 0.0155\n",
      "Epoch 25/50\n",
      "80/80 [==============================] - 3s 34ms/step - loss: 1.3366e-04 - mse: 2.6732e-04 - mae: 0.0111 - val_loss: 2.3430e-04 - val_mse: 4.6860e-04 - val_mae: 0.0147\n",
      "Epoch 26/50\n",
      "80/80 [==============================] - 3s 33ms/step - loss: 1.4843e-04 - mse: 2.9685e-04 - mae: 0.0119 - val_loss: 2.2802e-04 - val_mse: 4.5605e-04 - val_mae: 0.0144\n",
      "Epoch 27/50\n",
      "80/80 [==============================] - 3s 34ms/step - loss: 1.2529e-04 - mse: 2.5057e-04 - mae: 0.0105 - val_loss: 2.5998e-04 - val_mse: 5.1996e-04 - val_mae: 0.0163\n",
      "Epoch 28/50\n",
      "80/80 [==============================] - 3s 34ms/step - loss: 1.1816e-04 - mse: 2.3632e-04 - mae: 0.0099 - val_loss: 2.1509e-04 - val_mse: 4.3019e-04 - val_mae: 0.0141\n",
      "Epoch 29/50\n",
      "80/80 [==============================] - 3s 33ms/step - loss: 1.4940e-04 - mse: 2.9880e-04 - mae: 0.0115 - val_loss: 2.0066e-04 - val_mse: 4.0131e-04 - val_mae: 0.0133\n",
      "Epoch 30/50\n",
      "80/80 [==============================] - 3s 34ms/step - loss: 1.2454e-04 - mse: 2.4908e-04 - mae: 0.0103 - val_loss: 2.0917e-04 - val_mse: 4.1833e-04 - val_mae: 0.0138\n",
      "Epoch 31/50\n",
      "80/80 [==============================] - 3s 33ms/step - loss: 9.6294e-05 - mse: 1.9259e-04 - mae: 0.0087 - val_loss: 1.8718e-04 - val_mse: 3.7436e-04 - val_mae: 0.0127\n",
      "Epoch 32/50\n",
      "80/80 [==============================] - 3s 33ms/step - loss: 1.2027e-04 - mse: 2.4055e-04 - mae: 0.0098 - val_loss: 1.8803e-04 - val_mse: 3.7605e-04 - val_mae: 0.0127\n",
      "Epoch 33/50\n",
      "80/80 [==============================] - 3s 33ms/step - loss: 9.9794e-05 - mse: 1.9959e-04 - mae: 0.0090 - val_loss: 1.8208e-04 - val_mse: 3.6417e-04 - val_mae: 0.0125\n",
      "Epoch 34/50\n",
      "80/80 [==============================] - 3s 34ms/step - loss: 1.4811e-04 - mse: 2.9621e-04 - mae: 0.0117 - val_loss: 2.2814e-04 - val_mse: 4.5629e-04 - val_mae: 0.0148\n",
      "Epoch 35/50\n",
      "80/80 [==============================] - 3s 34ms/step - loss: 1.2387e-04 - mse: 2.4774e-04 - mae: 0.0106 - val_loss: 1.9104e-04 - val_mse: 3.8207e-04 - val_mae: 0.0133\n",
      "Epoch 36/50\n",
      "80/80 [==============================] - 3s 33ms/step - loss: 9.5329e-05 - mse: 1.9066e-04 - mae: 0.0088 - val_loss: 1.8039e-04 - val_mse: 3.6079e-04 - val_mae: 0.0126\n",
      "Epoch 37/50\n",
      "80/80 [==============================] - 3s 34ms/step - loss: 1.2681e-04 - mse: 2.5361e-04 - mae: 0.0108 - val_loss: 1.8078e-04 - val_mse: 3.6156e-04 - val_mae: 0.0124\n",
      "Epoch 38/50\n",
      "80/80 [==============================] - 3s 34ms/step - loss: 1.0450e-04 - mse: 2.0901e-04 - mae: 0.0091 - val_loss: 1.7788e-04 - val_mse: 3.5577e-04 - val_mae: 0.0123\n",
      "Epoch 39/50\n",
      "80/80 [==============================] - 3s 33ms/step - loss: 1.1833e-04 - mse: 2.3666e-04 - mae: 0.0103 - val_loss: 1.7105e-04 - val_mse: 3.4211e-04 - val_mae: 0.0122\n",
      "Epoch 40/50\n",
      "80/80 [==============================] - 3s 33ms/step - loss: 9.3205e-05 - mse: 1.8641e-04 - mae: 0.0086 - val_loss: 1.7406e-04 - val_mse: 3.4813e-04 - val_mae: 0.0125\n",
      "Epoch 41/50\n",
      "80/80 [==============================] - 3s 33ms/step - loss: 1.0463e-04 - mse: 2.0927e-04 - mae: 0.0095 - val_loss: 2.0295e-04 - val_mse: 4.0589e-04 - val_mae: 0.0140\n",
      "Epoch 42/50\n",
      "80/80 [==============================] - 3s 33ms/step - loss: 1.1492e-04 - mse: 2.2984e-04 - mae: 0.0097 - val_loss: 1.7477e-04 - val_mse: 3.4954e-04 - val_mae: 0.0123\n",
      "Epoch 43/50\n",
      "80/80 [==============================] - 3s 34ms/step - loss: 1.1636e-04 - mse: 2.3273e-04 - mae: 0.0103 - val_loss: 2.3646e-04 - val_mse: 4.7292e-04 - val_mae: 0.0155\n",
      "Epoch 44/50\n",
      "80/80 [==============================] - 3s 33ms/step - loss: 1.2223e-04 - mse: 2.4445e-04 - mae: 0.0102 - val_loss: 2.0379e-04 - val_mse: 4.0758e-04 - val_mae: 0.0140\n",
      "Epoch 45/50\n",
      "80/80 [==============================] - 3s 33ms/step - loss: 1.0791e-04 - mse: 2.1582e-04 - mae: 0.0095 - val_loss: 2.3600e-04 - val_mse: 4.7199e-04 - val_mae: 0.0155\n",
      "Epoch 46/50\n",
      "80/80 [==============================] - 3s 33ms/step - loss: 9.6225e-05 - mse: 1.9245e-04 - mae: 0.0086 - val_loss: 2.3914e-04 - val_mse: 4.7828e-04 - val_mae: 0.0156\n",
      "Epoch 47/50\n",
      "80/80 [==============================] - 3s 34ms/step - loss: 9.2262e-05 - mse: 1.8452e-04 - mae: 0.0088 - val_loss: 1.6972e-04 - val_mse: 3.3944e-04 - val_mae: 0.0122\n",
      "Epoch 48/50\n",
      "80/80 [==============================] - 3s 36ms/step - loss: 1.0361e-04 - mse: 2.0723e-04 - mae: 0.0090 - val_loss: 1.6672e-04 - val_mse: 3.3343e-04 - val_mae: 0.0121\n",
      "Epoch 49/50\n",
      "80/80 [==============================] - 3s 34ms/step - loss: 1.2914e-04 - mse: 2.5829e-04 - mae: 0.0107 - val_loss: 1.6028e-04 - val_mse: 3.2057e-04 - val_mae: 0.0118\n",
      "Epoch 50/50\n",
      "80/80 [==============================] - 3s 34ms/step - loss: 1.1774e-04 - mse: 2.3547e-04 - mae: 0.0097 - val_loss: 1.9290e-04 - val_mse: 3.8580e-04 - val_mae: 0.0133\n"
     ]
    }
   ],
   "source": [
    "model, predictor, y_pred = create_and_train_bilstm_model(X_train, y_train, X_test, y_test, stock_name)"
   ]
  },
  {
   "attachments": {},
   "cell_type": "markdown",
   "metadata": {},
   "source": [
    "# Visualizations"
   ]
  },
  {
   "cell_type": "code",
   "execution_count": 7,
   "metadata": {},
   "outputs": [
    {
     "data": {
      "text/plain": [
       "<matplotlib.legend.Legend at 0x7f7d16e8dea0>"
      ]
     },
     "execution_count": 7,
     "metadata": {},
     "output_type": "execute_result"
    },
    {
     "data": {
      "image/png": "[encoded data removed]",
      "text/plain": [
       "<Figure size 432x288 with 1 Axes>"
      ]
     },
     "metadata": {
      "needs_background": "light"
     },
     "output_type": "display_data"
    }
   ],
   "source": [
    "import matplotlib.pyplot as plt\n",
    "fig, axes = plt.subplots()\n",
    "    \n",
    "plt.suptitle('Model Loss', verticalalignment = 'top', horizontalalignment = 'center')\n",
    "axes.plot(predictor.epoch, predictor.history['loss'], label = 'loss')\n",
    "axes.plot(predictor.epoch, predictor.history['val_loss'], label = 'val_loss')\n",
    "axes.set_title(stock_name)\n",
    "axes.set_xlabel('Epochs')\n",
    "axes.set_ylabel('Loss')\n",
    "axes.xaxis.set_tick_params()\n",
    "axes.yaxis.set_tick_params()\n",
    "axes.legend(loc = 'upper left')\n",
    "    "
   ]
  },
  {
   "cell_type": "code",
   "execution_count": 8,
   "metadata": {},
   "outputs": [],
   "source": [
    "def predictions_inverse_scaler_rmse(company, scaler, model, X_test, y_test):\n",
    "    y_pred = model.predict(X_test)\n",
    "    y_pred = scaler.inverse_transform(y_pred)\n",
    "    y_test = scaler.inverse_transform(y_test.reshape(-1, 1))\n",
    "    \n",
    "    rmse = np.sqrt(np.mean((y_pred - y_test) ** 2))\n",
    "    \n",
    "    print(f'The RMSE for {company} is {rmse}')\n",
    "    \n",
    "    return y_pred, y_test"
   ]
  },
  {
   "cell_type": "code",
   "execution_count": 9,
   "metadata": {},
   "outputs": [
    {
     "name": "stdout",
     "output_type": "stream",
     "text": [
      "The RMSE for META is 7.158481361546646\n"
     ]
    }
   ],
   "source": [
    "y_pred_meta, y_test_meta = predictions_inverse_scaler_rmse(stock_name, scaler, model, X_test, y_test)"
   ]
  },
  {
   "cell_type": "code",
   "execution_count": null,
   "metadata": {},
   "outputs": [],
   "source": []
  },
  {
   "cell_type": "code",
   "execution_count": null,
   "metadata": {},
   "outputs": [],
   "source": []
  },
  {
   "cell_type": "code",
   "execution_count": null,
   "metadata": {},
   "outputs": [],
   "source": []
  },
  {
   "cell_type": "code",
   "execution_count": null,
   "metadata": {},
   "outputs": [],
   "source": []
  }
 ],
 "metadata": {
  "kernelspec": {
   "display_name": "Python 3",
   "language": "python",
   "name": "python3"
  },
  "language_info": {
   "codemirror_mode": {
    "name": "ipython",
    "version": 3
   },
   "file_extension": ".py",
   "mimetype": "text/x-python",
   "name": "python",
   "nbconvert_exporter": "python",
   "pygments_lexer": "ipython3",
   "version": "3.10.9"
  },
  "orig_nbformat": 4,
  "vscode": {
   "interpreter": {
    "hash": "e7370f93d1d0cde622a1f8e1c04877d8463912d04d973331ad4851f04de6915a"
   }
  }
 },
 "nbformat": 4,
 "nbformat_minor": 2
}
